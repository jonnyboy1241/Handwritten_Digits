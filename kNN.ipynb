{
 "cells": [
  {
   "cell_type": "code",
   "execution_count": 1,
   "metadata": {},
   "outputs": [],
   "source": [
    "from data import *\n",
    "from utilities import *"
   ]
  },
  {
   "cell_type": "code",
   "execution_count": 2,
   "metadata": {},
   "outputs": [],
   "source": [
    "training_images = get_training_data()\n",
    "training_labels = get_training_labels()\n",
    "test_images = get_test_data()\n",
    "test_labels = get_test_labels()"
   ]
  },
  {
   "cell_type": "markdown",
   "metadata": {},
   "source": [
    "100 Images are selected for the test case because Vanilla k-Nearest Neighbors using the Minkowski Distance is very slow (more than one second per classification). An attempt to improve the speed of this classification will be made later."
   ]
  },
  {
   "cell_type": "code",
   "execution_count": 3,
   "metadata": {},
   "outputs": [],
   "source": [
    "from nearest_neighbors import k_nearest_neighbors\n",
    "import random\n",
    "import time\n",
    "\n",
    "\n",
    "test_batch_size = 100\n",
    "random_indices = random.sample(list(range(test_labels.size)), test_batch_size)\n",
    "\n",
    "test_images_subset = np.array([test_images[x] for x in random_indices])\n",
    "test_labels_subset = np.array([test_labels[x] for x in random_indices])"
   ]
  },
  {
   "cell_type": "markdown",
   "metadata": {},
   "source": [
    "# Results and Analysis of kNN Classifier\n",
    "\n",
    "Results peaked around 86% accuracy for the given dataset using the Manhattan Distance and 90% accuracy using the Euclidean Distance. 13-Nearest Neig"
   ]
  },
  {
   "cell_type": "code",
   "execution_count": 4,
   "metadata": {},
   "outputs": [
    {
     "name": "stdout",
     "output_type": "stream",
     "text": [
      "1-Nearest Neighbor with Manhattan Distance\n",
      "Classification Accuracy = 0.8100\n",
      "Time = 101.9910 s\n",
      "\n",
      "3-Nearest Neighbor with Manhattan Distance\n",
      "Classification Accuracy = 0.8500\n",
      "Time = 97.8753 s\n",
      "\n",
      "5-Nearest Neighbor with Manhattan Distance\n",
      "Classification Accuracy = 0.8400\n",
      "Time = 98.1040 s\n",
      "\n",
      "7-Nearest Neighbor with Manhattan Distance\n",
      "Classification Accuracy = 0.8400\n",
      "Time = 97.8624 s\n",
      "\n",
      "9-Nearest Neighbor with Manhattan Distance\n",
      "Classification Accuracy = 0.8600\n",
      "Time = 98.1057 s\n",
      "\n",
      "11-Nearest Neighbor with Manhattan Distance\n",
      "Classification Accuracy = 0.8600\n",
      "Time = 97.8671 s\n",
      "\n",
      "13-Nearest Neighbor with Manhattan Distance\n",
      "Classification Accuracy = 0.8600\n",
      "Time = 97.5601 s\n",
      "\n",
      "15-Nearest Neighbor with Manhattan Distance\n",
      "Classification Accuracy = 0.8600\n",
      "Time = 98.2272 s\n",
      "\n",
      "17-Nearest Neighbor with Manhattan Distance\n",
      "Classification Accuracy = 0.8500\n",
      "Time = 98.8065 s\n",
      "\n",
      "19-Nearest Neighbor with Manhattan Distance\n",
      "Classification Accuracy = 0.8500\n",
      "Time = 98.4538 s\n",
      "\n",
      "21-Nearest Neighbor with Manhattan Distance\n",
      "Classification Accuracy = 0.8400\n",
      "Time = 98.3560 s\n",
      "\n",
      "23-Nearest Neighbor with Manhattan Distance\n",
      "Classification Accuracy = 0.8400\n",
      "Time = 98.5277 s\n",
      "\n"
     ]
    }
   ],
   "source": [
    "for i in range(1, 25, 2):\n",
    "    begin = time.time()\n",
    "    classification_values = k_nearest_neighbors(training_images, training_labels, test_images_subset, test_labels_subset, i, 1.0)\n",
    "    print('%d-Nearest Neighbor with Manhattan Distance' % (i))\n",
    "    compute_accuracy(classification_values, test_labels_subset)\n",
    "    compute_time(begin)\n",
    "    print()"
   ]
  },
  {
   "cell_type": "code",
   "execution_count": 5,
   "metadata": {},
   "outputs": [
    {
     "name": "stdout",
     "output_type": "stream",
     "text": [
      "1-Nearest Neighbor with Euclidean Distance\n",
      "Classification Accuracy = 0.8000\n",
      "Time = 97.9312 s\n",
      "\n",
      "3-Nearest Neighbor with Euclidean Distance\n",
      "Classification Accuracy = 0.7900\n",
      "Time = 97.5989 s\n",
      "\n",
      "5-Nearest Neighbor with Euclidean Distance\n",
      "Classification Accuracy = 0.8300\n",
      "Time = 97.0873 s\n",
      "\n",
      "7-Nearest Neighbor with Euclidean Distance\n",
      "Classification Accuracy = 0.9000\n",
      "Time = 96.7624 s\n",
      "\n",
      "9-Nearest Neighbor with Euclidean Distance\n",
      "Classification Accuracy = 0.8800\n",
      "Time = 96.8894 s\n",
      "\n",
      "11-Nearest Neighbor with Euclidean Distance\n",
      "Classification Accuracy = 0.8800\n",
      "Time = 97.1240 s\n",
      "\n",
      "13-Nearest Neighbor with Euclidean Distance\n",
      "Classification Accuracy = 0.9000\n",
      "Time = 102.3513 s\n",
      "\n",
      "15-Nearest Neighbor with Euclidean Distance\n",
      "Classification Accuracy = 0.8900\n",
      "Time = 104.5809 s\n",
      "\n",
      "17-Nearest Neighbor with Euclidean Distance\n",
      "Classification Accuracy = 0.8800\n",
      "Time = 97.1112 s\n",
      "\n",
      "19-Nearest Neighbor with Euclidean Distance\n",
      "Classification Accuracy = 0.8800\n",
      "Time = 96.7393 s\n",
      "\n",
      "21-Nearest Neighbor with Euclidean Distance\n",
      "Classification Accuracy = 0.8700\n",
      "Time = 96.8856 s\n",
      "\n",
      "23-Nearest Neighbor with Euclidean Distance\n",
      "Classification Accuracy = 0.8700\n",
      "Time = 97.3189 s\n",
      "\n"
     ]
    }
   ],
   "source": [
    "for i in range(1, 25, 2):\n",
    "    begin = time.time()\n",
    "    classification_values = k_nearest_neighbors(training_images, training_labels, test_images_subset, test_labels_subset, i, 2.0)\n",
    "    print('%d-Nearest Neighbor with Euclidean Distance' % (i))\n",
    "    compute_accuracy(classification_values, test_labels_subset)\n",
    "    compute_time(begin)\n",
    "    print()"
   ]
  },
  {
   "cell_type": "code",
   "execution_count": 6,
   "metadata": {},
   "outputs": [
    {
     "name": "stdout",
     "output_type": "stream",
     "text": [
      "13-Nearest Neighbor with p = 1.2\n",
      "Classification Accuracy = 0.8700\n",
      "Time = 97.3838 s\n",
      "\n",
      "13-Nearest Neighbor with p = 1.4\n",
      "Classification Accuracy = 0.8500\n",
      "Time = 97.3635 s\n",
      "\n",
      "13-Nearest Neighbor with p = 1.6\n",
      "Classification Accuracy = 0.8600\n",
      "Time = 97.5016 s\n",
      "\n",
      "13-Nearest Neighbor with p = 1.8\n",
      "Classification Accuracy = 0.8600\n",
      "Time = 97.4781 s\n",
      "\n",
      "13-Nearest Neighbor with p = 5\n",
      "Classification Accuracy = 0.8400\n",
      "Time = 97.6295 s\n",
      "\n",
      "13-Nearest Neighbor with p = 25\n",
      "Classification Accuracy = 0.8200\n",
      "Time = 96.9068 s\n",
      "\n"
     ]
    }
   ],
   "source": [
    "begin = time.time()\n",
    "classification_values = k_nearest_neighbors(training_images, training_labels, test_images_subset, test_labels_subset, 13, 1.2)\n",
    "print('13-Nearest Neighbor with p = 1.2')\n",
    "compute_accuracy(classification_values, test_labels_subset)\n",
    "compute_time(begin)\n",
    "print()\n",
    "\n",
    "\n",
    "begin = time.time()\n",
    "classification_values = k_nearest_neighbors(training_images, training_labels, test_images_subset, test_labels_subset, 13, 1.4)\n",
    "print('13-Nearest Neighbor with p = 1.4')\n",
    "compute_accuracy(classification_values, test_labels_subset)\n",
    "compute_time(begin)\n",
    "print()\n",
    "\n",
    "\n",
    "begin = time.time()\n",
    "classification_values = k_nearest_neighbors(training_images, training_labels, test_images_subset, test_labels_subset, 13, 1.6)\n",
    "print('13-Nearest Neighbor with p = 1.6')\n",
    "compute_accuracy(classification_values, test_labels_subset)\n",
    "compute_time(begin)\n",
    "print()\n",
    "\n",
    "\n",
    "begin = time.time()\n",
    "classification_values = k_nearest_neighbors(training_images, training_labels, test_images_subset, test_labels_subset, 13, 1.8)\n",
    "print('13-Nearest Neighbor with p = 1.8')\n",
    "compute_accuracy(classification_values, test_labels_subset)\n",
    "compute_time(begin)\n",
    "print()\n",
    "\n",
    "\n",
    "begin = time.time()\n",
    "classification_values = k_nearest_neighbors(training_images, training_labels, test_images_subset, test_labels_subset, 13, 5.0)\n",
    "print('13-Nearest Neighbor with p = 5')\n",
    "compute_accuracy(classification_values, test_labels_subset)\n",
    "compute_time(begin)\n",
    "print()\n",
    "\n",
    "begin = time.time()\n",
    "classification_values = k_nearest_neighbors(training_images, training_labels, test_images_subset, test_labels_subset, 13, 25.0)\n",
    "print('13-Nearest Neighbor with p = 25')\n",
    "compute_accuracy(classification_values, test_labels_subset)\n",
    "compute_time(begin)\n",
    "print()"
   ]
  }
 ],
 "metadata": {
  "kernelspec": {
   "display_name": "Python 3",
   "language": "python",
   "name": "python3"
  },
  "language_info": {
   "codemirror_mode": {
    "name": "ipython",
    "version": 3
   },
   "file_extension": ".py",
   "mimetype": "text/x-python",
   "name": "python",
   "nbconvert_exporter": "python",
   "pygments_lexer": "ipython3",
   "version": "3.8.5"
  }
 },
 "nbformat": 4,
 "nbformat_minor": 4
}
