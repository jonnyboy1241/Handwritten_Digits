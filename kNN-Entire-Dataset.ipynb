{
 "cells": [
  {
   "cell_type": "code",
   "execution_count": 1,
   "metadata": {},
   "outputs": [],
   "source": [
    "from data import *\n",
    "from utilities import *\n",
    "import time\n",
    "from nearest_neighbors import k_nearest_neighbors"
   ]
  },
  {
   "cell_type": "code",
   "execution_count": 2,
   "metadata": {},
   "outputs": [],
   "source": [
    "training_images = get_training_data()\n",
    "training_labels = get_training_labels()\n",
    "test_images = get_test_data()\n",
    "test_labels = get_test_labels()"
   ]
  },
  {
   "cell_type": "code",
   "execution_count": 3,
   "metadata": {},
   "outputs": [
    {
     "name": "stdout",
     "output_type": "stream",
     "text": [
      "0 Images Classified\n",
      "1000 Images Classified\n",
      "2000 Images Classified\n",
      "3000 Images Classified\n",
      "4000 Images Classified\n",
      "5000 Images Classified\n",
      "6000 Images Classified\n",
      "7000 Images Classified\n",
      "8000 Images Classified\n",
      "9000 Images Classified\n",
      "\n",
      "7-Nearest Neighbors using Euclidean distance\n",
      "Classification Accuracy = 0.8311\n",
      "Time = 9794.0785 s\n"
     ]
    }
   ],
   "source": [
    "beginning_time = time.time()\n",
    "classification_values = k_nearest_neighbors(training_images, training_labels, test_images, test_labels, 7, 2.0)\n",
    "print()\n",
    "print('7-Nearest Neighbors using Euclidean distance')\n",
    "compute_accuracy(classification_values, test_labels)\n",
    "compute_time(beginning_time);"
   ]
  },
  {
   "cell_type": "code",
   "execution_count": 4,
   "metadata": {},
   "outputs": [],
   "source": [
    "with open('data/7nn_classification_euclidean', 'w') as file:\n",
    "    file.write('The result of classifying all images with 7-Nearest Neighbors using Euclidean Distance\\n')\n",
    "    \n",
    "    for i in range(classification_values.size):\n",
    "        file.write(str(classification_values[i]) + '\\n')"
   ]
  },
  {
   "cell_type": "code",
   "execution_count": 5,
   "metadata": {},
   "outputs": [
    {
     "name": "stdout",
     "output_type": "stream",
     "text": [
      "0 Images Classified\n",
      "1000 Images Classified\n",
      "2000 Images Classified\n",
      "3000 Images Classified\n",
      "4000 Images Classified\n",
      "5000 Images Classified\n",
      "6000 Images Classified\n",
      "7000 Images Classified\n",
      "8000 Images Classified\n",
      "9000 Images Classified\n",
      "\n",
      "13-Nearest Neighbors using Euclidean distance\n",
      "Classification Accuracy = 0.8374\n",
      "Time = 9545.6645 s\n"
     ]
    }
   ],
   "source": [
    "beginning_time = time.time()\n",
    "classification_values = k_nearest_neighbors(training_images, training_labels, test_images, test_labels, 13, 2.0)\n",
    "print()\n",
    "print('13-Nearest Neighbors using Euclidean distance')\n",
    "compute_accuracy(classification_values, test_labels)\n",
    "compute_time(beginning_time);"
   ]
  },
  {
   "cell_type": "code",
   "execution_count": 6,
   "metadata": {},
   "outputs": [],
   "source": [
    "with open('data/13nn_classification_euclidean', 'w') as file:\n",
    "    file.write('The result of classifying all images with 13-Nearest Neighbors using Euclidean Distance\\n')\n",
    "    \n",
    "    for i in range(classification_values.size):\n",
    "        file.write(str(classification_values[i]) + '\\n')"
   ]
  },
  {
   "cell_type": "code",
   "execution_count": 7,
   "metadata": {},
   "outputs": [
    {
     "name": "stdout",
     "output_type": "stream",
     "text": [
      "0 Images Classified\n",
      "1000 Images Classified\n",
      "2000 Images Classified\n",
      "3000 Images Classified\n",
      "4000 Images Classified\n",
      "5000 Images Classified\n",
      "6000 Images Classified\n",
      "7000 Images Classified\n",
      "8000 Images Classified\n",
      "9000 Images Classified\n",
      "\n",
      "13-Nearest Neighbors using Manhattan distance\n",
      "Classification Accuracy = 0.8230\n",
      "Time = 9585.8409 s\n"
     ]
    }
   ],
   "source": [
    "beginning_time = time.time()\n",
    "classification_values = k_nearest_neighbors(training_images, training_labels, test_images, test_labels, 13, 1.0)\n",
    "print()\n",
    "print('13-Nearest Neighbors using Manhattan distance')\n",
    "compute_accuracy(classification_values, test_labels)\n",
    "compute_time(beginning_time);"
   ]
  },
  {
   "cell_type": "code",
   "execution_count": 8,
   "metadata": {},
   "outputs": [],
   "source": [
    "with open('data/13nn_classification_manhattan', 'w') as file:\n",
    "    file.write('The result of classifying all images with 13-Nearest Neighbors using Manhattan                     Distance\\n')\n",
    "    \n",
    "    for i in range(classification_values.size):\n",
    "        file.write(str(classification_values[i]) + '\\n')"
   ]
  }
 ],
 "metadata": {
  "kernelspec": {
   "display_name": "Python 3",
   "language": "python",
   "name": "python3"
  },
  "language_info": {
   "codemirror_mode": {
    "name": "ipython",
    "version": 3
   },
   "file_extension": ".py",
   "mimetype": "text/x-python",
   "name": "python",
   "nbconvert_exporter": "python",
   "pygments_lexer": "ipython3",
   "version": "3.8.5"
  }
 },
 "nbformat": 4,
 "nbformat_minor": 4
}
